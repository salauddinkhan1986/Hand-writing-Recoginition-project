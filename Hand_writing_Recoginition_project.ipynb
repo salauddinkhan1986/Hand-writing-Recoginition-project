{
  "nbformat": 4,
  "nbformat_minor": 0,
  "metadata": {
    "colab": {
      "name": "Hand writing Recoginition project.ipynb",
      "provenance": [],
      "authorship_tag": "ABX9TyMmoxQ4egyzTbnBfMdtSrwn",
      "include_colab_link": true
    },
    "kernelspec": {
      "name": "python3",
      "display_name": "Python 3"
    },
    "language_info": {
      "name": "python"
    }
  },
  "cells": [
    {
      "cell_type": "markdown",
      "metadata": {
        "id": "view-in-github",
        "colab_type": "text"
      },
      "source": [
        "<a href=\"https://colab.research.google.com/github/salauddinkhan1986/Hand-writing-Recoginition-project/blob/main/Hand_writing_Recoginition_project.ipynb\" target=\"_parent\"><img src=\"https://colab.research.google.com/assets/colab-badge.svg\" alt=\"Open In Colab\"/></a>"
      ]
    },
    {
      "cell_type": "markdown",
      "source": [
        "**Deep Neural Network with Keras for MNIST handwritten classification and recognition\n",
        "**"
      ],
      "metadata": {
        "id": "Mz5vCmxz35X1"
      }
    },
    {
      "cell_type": "code",
      "execution_count": null,
      "metadata": {
        "colab": {
          "base_uri": "https://localhost:8080/"
        },
        "id": "IJ4F4fbYt5Ub",
        "outputId": "975bc07f-6549-460f-8367-e817eb954152"
      },
      "outputs": [
        {
          "output_type": "stream",
          "name": "stdout",
          "text": [
            "Train: X = (60000, 28, 28), y = (60000,)\n",
            "Test: X = (10000, 28, 28), y = (10000,)\n"
          ]
        }
      ],
      "source": [
        "from keras.datasets import mnist \n",
        "\n",
        "(trainsetX, trainsety),(testsetX,testsety) = mnist.load_data()\n",
        "\n",
        "print('Train: X = {}, y = {}'.format(trainsetX.shape, trainsety.shape)) \n",
        "print('Test: X = {}, y = {}'.format(testsetX.shape, testsety.shape))"
      ]
    },
    {
      "cell_type": "markdown",
      "source": [
        "**Libraries**"
      ],
      "metadata": {
        "id": "r2XwRFkQ4HxE"
      }
    },
    {
      "cell_type": "code",
      "source": [
        "import matplotlib.pyplot as plt\n"
      ],
      "metadata": {
        "id": "pMLfYjLRwuRV"
      },
      "execution_count": null,
      "outputs": []
    },
    {
      "cell_type": "code",
      "source": [
        "import numpy as np\n",
        "import pandas as pd\n",
        "\n"
      ],
      "metadata": {
        "id": "LXD4bGa80AnV"
      },
      "execution_count": null,
      "outputs": []
    },
    {
      "cell_type": "markdown",
      "source": [
        "**EDA**"
      ],
      "metadata": {
        "id": "nV2-Sb3h21cj"
      }
    },
    {
      "cell_type": "code",
      "source": [
        "plt.imshow(trainsetX[50])\n",
        "plt.show()"
      ],
      "metadata": {
        "colab": {
          "base_uri": "https://localhost:8080/",
          "height": 265
        },
        "id": "s9LvL4qIwmFV",
        "outputId": "729678c1-ee45-45fd-a686-9b19ec2b34bc"
      },
      "execution_count": null,
      "outputs": [
        {
          "output_type": "display_data",
          "data": {
            "image/png": "[encoded data removed]",
            "text/plain": [
              "<Figure size 432x288 with 1 Axes>"
            ]
          },
          "metadata": {
            "needs_background": "light"
          }
        }
      ]
    },
    {
      "cell_type": "code",
      "source": [
        "print(trainsety[50])"
      ],
      "metadata": {
        "colab": {
          "base_uri": "https://localhost:8080/"
        },
        "id": "raMTAI9lw35G",
        "outputId": "820342ae-8546-4623-a64a-2326e664c092"
      },
      "execution_count": null,
      "outputs": [
        {
          "output_type": "stream",
          "name": "stdout",
          "text": [
            "3\n"
          ]
        }
      ]
    },
    {
      "cell_type": "markdown",
      "source": [
        "**Data Preparation**"
      ],
      "metadata": {
        "id": "q8hjKqEr29T1"
      }
    },
    {
      "cell_type": "code",
      "source": [
        "import tensorflow as tf"
      ],
      "metadata": {
        "id": "cQjoeg8ByMq8"
      },
      "execution_count": null,
      "outputs": []
    },
    {
      "cell_type": "code",
      "source": [
        "x_train=tf.keras.utils.normalize(trainsetX,axis=1)\n",
        "x_test=tf.keras.utils.normalize(testsetX,axis=1)"
      ],
      "metadata": {
        "id": "z82e2bhox0kT"
      },
      "execution_count": null,
      "outputs": []
    },
    {
      "cell_type": "code",
      "source": [
        ""
      ],
      "metadata": {
        "id": "Re8yeEWsfft4"
      },
      "execution_count": null,
      "outputs": []
    },
    {
      "cell_type": "code",
      "source": [
        ""
      ],
      "metadata": {
        "id": "ZGs3mFtbdoUR"
      },
      "execution_count": null,
      "outputs": []
    },
    {
      "cell_type": "code",
      "source": [
        "print(x_train[50])"
      ],
      "metadata": {
        "colab": {
          "base_uri": "https://localhost:8080/"
        },
        "id": "cAwbv00JynEp",
        "outputId": "00123fbc-7d6f-4262-a37f-40a69772a034"
      },
      "execution_count": null,
      "outputs": [
        {
          "output_type": "stream",
          "name": "stdout",
          "text": [
            "[[0.         0.         0.         0.         0.         0.\n",
            "  0.         0.         0.         0.         0.         0.\n",
            "  0.         0.         0.         0.         0.         0.\n",
            "  0.         0.         0.         0.         0.         0.\n",
            "  0.         0.         0.         0.        ]\n",
            " [0.         0.         0.         0.         0.         0.\n",
            "  0.         0.         0.         0.         0.         0.\n",
            "  0.         0.         0.         0.         0.         0.\n",
            "  0.         0.         0.         0.         0.         0.\n",
            "  0.         0.         0.         0.        ]\n",
            " [0.         0.         0.         0.         0.         0.\n",
            "  0.         0.         0.         0.         0.         0.\n",
            "  0.         0.         0.         0.         0.         0.\n",
            "  0.         0.         0.         0.         0.         0.\n",
            "  0.         0.         0.         0.        ]\n",
            " [0.         0.         0.         0.         0.         0.\n",
            "  0.         0.         0.         0.         0.         0.\n",
            "  0.         0.         0.         0.         0.         0.\n",
            "  0.         0.         0.         0.         0.         0.\n",
            "  0.         0.         0.         0.        ]\n",
            " [0.         0.         0.         0.         0.         0.\n",
            "  0.         0.         0.         0.         0.02575398 0.10332473\n",
            "  0.25489201 0.2282781  0.29161685 0.29350576 0.13534087 0.0034086\n",
            "  0.         0.         0.         0.         0.         0.\n",
            "  0.         0.         0.         0.        ]\n",
            " [0.         0.         0.         0.         0.         0.\n",
            "  0.         0.         0.08410012 0.3672854  0.51078725 0.46865144\n",
            "  0.44788167 0.43843889 0.42159465 0.36101208 0.35808939 0.11418809\n",
            "  0.         0.         0.         0.         0.         0.\n",
            "  0.         0.         0.         0.        ]\n",
            " [0.         0.         0.         0.         0.         0.\n",
            "  0.         0.         0.44212634 0.4026864  0.31334007 0.23432572\n",
            "  0.127446   0.05435193 0.07498719 0.05283104 0.30310716 0.29825247\n",
            "  0.         0.         0.         0.         0.         0.\n",
            "  0.         0.         0.         0.        ]\n",
            " [0.         0.         0.         0.         0.         0.\n",
            "  0.         0.         0.07208582 0.         0.         0.\n",
            "  0.         0.         0.         0.         0.29182875 0.41925775\n",
            "  0.02457555 0.         0.         0.         0.         0.\n",
            "  0.         0.         0.         0.        ]\n",
            " [0.         0.         0.         0.         0.         0.\n",
            "  0.         0.         0.         0.         0.         0.\n",
            "  0.         0.         0.         0.08071408 0.35385999 0.28802667\n",
            "  0.0017554  0.         0.         0.         0.         0.\n",
            "  0.         0.         0.         0.        ]\n",
            " [0.         0.         0.         0.         0.         0.\n",
            "  0.         0.         0.         0.         0.         0.\n",
            "  0.         0.         0.0183302  0.31551869 0.32707377 0.034086\n",
            "  0.         0.         0.         0.         0.         0.\n",
            "  0.         0.         0.         0.        ]\n",
            " [0.         0.         0.         0.         0.         0.\n",
            "  0.         0.         0.         0.         0.         0.\n",
            "  0.         0.03623462 0.31661258 0.3668822  0.08599785 0.\n",
            "  0.         0.         0.         0.         0.         0.\n",
            "  0.         0.         0.         0.        ]\n",
            " [0.         0.         0.         0.         0.         0.\n",
            "  0.         0.         0.         0.         0.         0.04428203\n",
            "  0.21483755 0.37321658 0.42326103 0.36394714 0.20019171 0.18406438\n",
            "  0.03159714 0.         0.         0.         0.         0.\n",
            "  0.         0.         0.         0.        ]\n",
            " [0.         0.         0.         0.         0.         0.\n",
            "  0.         0.         0.         0.         0.13520839 0.41145382\n",
            "  0.46244693 0.46017966 0.42326103 0.37275231 0.35808939 0.43289215\n",
            "  0.36687789 0.         0.         0.         0.         0.\n",
            "  0.         0.         0.         0.        ]\n",
            " [0.         0.         0.         0.         0.         0.\n",
            "  0.         0.         0.         0.         0.11160057 0.32104469\n",
            "  0.23486478 0.17211444 0.02666211 0.02348046 0.02255681 0.18065578\n",
            "  0.43709375 0.2207344  0.         0.         0.         0.\n",
            "  0.         0.         0.         0.        ]\n",
            " [0.         0.         0.         0.         0.         0.\n",
            "  0.         0.         0.         0.         0.         0.\n",
            "  0.         0.         0.         0.         0.         0.\n",
            "  0.31421599 0.42204417 0.         0.         0.         0.\n",
            "  0.         0.         0.         0.        ]\n",
            " [0.         0.         0.         0.         0.         0.\n",
            "  0.         0.         0.         0.         0.         0.\n",
            "  0.         0.         0.         0.         0.         0.\n",
            "  0.14043173 0.42204417 0.         0.         0.         0.\n",
            "  0.         0.         0.         0.        ]\n",
            " [0.         0.         0.         0.         0.         0.\n",
            "  0.         0.         0.         0.         0.         0.\n",
            "  0.         0.         0.         0.         0.         0.\n",
            "  0.14043173 0.43087354 1.         0.         0.         0.\n",
            "  0.         0.         0.         0.        ]\n",
            " [0.         0.         0.         0.         0.         0.\n",
            "  0.         0.         0.         0.         0.         0.\n",
            "  0.         0.         0.         0.         0.         0.\n",
            "  0.17553966 0.42204417 0.         0.         0.         0.\n",
            "  0.         0.         0.         0.        ]\n",
            " [0.         0.         0.         0.         0.         0.\n",
            "  0.         0.         0.         0.         0.         0.\n",
            "  0.         0.         0.         0.         0.         0.\n",
            "  0.4107628  0.42204417 0.         0.         0.         0.\n",
            "  0.         0.         0.         0.        ]\n",
            " [0.         0.         0.         0.         0.         0.\n",
            "  0.         0.06131393 0.33640047 0.01106281 0.         0.\n",
            "  0.         0.         0.         0.         0.0042294  0.25564497\n",
            "  0.44587074 0.2277979  0.         0.         0.         0.\n",
            "  0.         0.         0.         0.        ]\n",
            " [0.         0.         0.         0.         0.         0.\n",
            "  0.         0.98102294 0.61032657 0.40047384 0.08155427 0.\n",
            "  0.         0.         0.         0.04989598 0.26504254 0.43289215\n",
            "  0.36687789 0.0353175  0.         0.         0.         0.\n",
            "  0.         0.         0.         0.        ]\n",
            " [0.         0.         0.         0.         0.         0.\n",
            "  0.         0.1839418  0.54304648 0.56420348 0.47859477 0.16236743\n",
            "  0.12380469 0.23190156 0.26162198 0.35514197 0.35808939 0.35279006\n",
            "  0.04037412 0.         0.         0.         0.         0.\n",
            "  0.         0.         0.         0.        ]\n",
            " [0.         0.         0.         0.         0.         0.\n",
            "  0.         0.         0.10812872 0.46463816 0.54512588 0.46865144\n",
            "  0.46244693 0.46017966 0.42492741 0.37275231 0.26363274 0.08351069\n",
            "  0.         0.         0.         0.         0.         0.\n",
            "  0.         0.         0.         0.        ]\n",
            " [0.         0.         0.         0.         0.         0.\n",
            "  0.         0.         0.         0.09071507 0.27685527 0.44097517\n",
            "  0.4169305  0.32429984 0.15164076 0.02348046 0.0042294  0.\n",
            "  0.         0.         0.         0.         0.         0.\n",
            "  0.         0.         0.         0.        ]\n",
            " [0.         0.         0.         0.         0.         0.\n",
            "  0.         0.         0.         0.         0.         0.\n",
            "  0.         0.         0.         0.         0.         0.\n",
            "  0.         0.         0.         0.         0.         0.\n",
            "  0.         0.         0.         0.        ]\n",
            " [0.         0.         0.         0.         0.         0.\n",
            "  0.         0.         0.         0.         0.         0.\n",
            "  0.         0.         0.         0.         0.         0.\n",
            "  0.         0.         0.         0.         0.         0.\n",
            "  0.         0.         0.         0.        ]\n",
            " [0.         0.         0.         0.         0.         0.\n",
            "  0.         0.         0.         0.         0.         0.\n",
            "  0.         0.         0.         0.         0.         0.\n",
            "  0.         0.         0.         0.         0.         0.\n",
            "  0.         0.         0.         0.        ]\n",
            " [0.         0.         0.         0.         0.         0.\n",
            "  0.         0.         0.         0.         0.         0.\n",
            "  0.         0.         0.         0.         0.         0.\n",
            "  0.         0.         0.         0.         0.         0.\n",
            "  0.         0.         0.         0.        ]]\n"
          ]
        }
      ]
    },
    {
      "cell_type": "markdown",
      "source": [
        "**Model Evaluation**"
      ],
      "metadata": {
        "id": "3QPK18-N3M5u"
      }
    },
    {
      "cell_type": "code",
      "source": [
        "from tensorflow.keras.models import Sequential\n",
        "from tensorflow.keras.layers import Dense, Activation,Flatten,Conv2D,MaxPooling2D"
      ],
      "metadata": {
        "id": "6PyEMVxfzGnF"
      },
      "execution_count": null,
      "outputs": []
    },
    {
      "cell_type": "code",
      "source": [
        "x_train.shape"
      ],
      "metadata": {
        "colab": {
          "base_uri": "https://localhost:8080/"
        },
        "id": "9JqYg-wKd7aI",
        "outputId": "048d9055-f391-40d4-91c0-0efd9b764d09"
      },
      "execution_count": null,
      "outputs": [
        {
          "output_type": "execute_result",
          "data": {
            "text/plain": [
              "(60000, 28, 28)"
            ]
          },
          "metadata": {},
          "execution_count": 63
        }
      ]
    },
    {
      "cell_type": "code",
      "source": [
        "img_size=28\n",
        "x_trainr=np.array(x_train).reshape(-1,img_size,img_size,1)\n",
        "x_testr=np.array(x_test).reshape(-1,img_size,img_size,1)\n",
        "print(x_trainr.shape)\n",
        "print(x_testr.shape)"
      ],
      "metadata": {
        "colab": {
          "base_uri": "https://localhost:8080/"
        },
        "id": "VZPo0ZlpzrZL",
        "outputId": "e4ec0760-8db5-4363-f132-4002a6ccc910"
      },
      "execution_count": null,
      "outputs": [
        {
          "output_type": "stream",
          "name": "stdout",
          "text": [
            "(60000, 28, 28, 1)\n",
            "(10000, 28, 28, 1)\n"
          ]
        }
      ]
    },
    {
      "cell_type": "code",
      "source": [
        "model =Sequential()\n",
        "model.add(Conv2D(64,(3,3),input_shape= x_trainr.shape[1:]))\n",
        "model.add(Activation(\"relu\"))\n",
        "model.add(MaxPooling2D(pool_size=(2,2)))"
      ],
      "metadata": {
        "id": "gnlSONh-zT0a"
      },
      "execution_count": null,
      "outputs": []
    },
    {
      "cell_type": "code",
      "source": [
        "model =Sequential()\n",
        "model.add(Conv2D(64,(3,3),input_shape= x_trainr.shape[1:]))\n",
        "model.add(Activation(\"relu\"))\n",
        "model.add(MaxPooling2D(pool_size=(2,2)))"
      ],
      "metadata": {
        "id": "mqIxxuM50SyU"
      },
      "execution_count": null,
      "outputs": []
    },
    {
      "cell_type": "code",
      "source": [
        "model =Sequential()\n",
        "model.add(Conv2D(64,(3,3),input_shape= x_trainr.shape[1:]))\n",
        "model.add(Activation(\"relu\"))\n",
        "model.add(MaxPooling2D(pool_size=(2,2)))"
      ],
      "metadata": {
        "id": "QsFkYRPc0bjR"
      },
      "execution_count": null,
      "outputs": []
    },
    {
      "cell_type": "code",
      "source": [
        "model.add(Flatten())\n",
        "model.add(Dense(64))\n",
        "model.add(Activation(\"relu\"))"
      ],
      "metadata": {
        "id": "FZH4OLpy0hfK"
      },
      "execution_count": null,
      "outputs": []
    },
    {
      "cell_type": "code",
      "source": [
        "model.add(Dense(32))\n",
        "model.add(Activation(\"relu\"))"
      ],
      "metadata": {
        "id": "D-Z0LFK30hiB"
      },
      "execution_count": null,
      "outputs": []
    },
    {
      "cell_type": "code",
      "source": [
        "model.add(Dense(10))\n",
        "model.add(Activation(\"sigmoid\"))"
      ],
      "metadata": {
        "id": "90b1c7Ch0hjr"
      },
      "execution_count": null,
      "outputs": []
    },
    {
      "cell_type": "code",
      "source": [
        "model.summary()"
      ],
      "metadata": {
        "colab": {
          "base_uri": "https://localhost:8080/"
        },
        "id": "gCP-TawF0huk",
        "outputId": "97108912-733f-44d4-af7e-cc84f1cda168"
      },
      "execution_count": null,
      "outputs": [
        {
          "output_type": "stream",
          "name": "stdout",
          "text": [
            "Model: \"sequential_10\"\n",
            "_________________________________________________________________\n",
            " Layer (type)                Output Shape              Param #   \n",
            "=================================================================\n",
            " conv2d_10 (Conv2D)          (None, 26, 26, 64)        640       \n",
            "                                                                 \n",
            " activation_17 (Activation)  (None, 26, 26, 64)        0         \n",
            "                                                                 \n",
            " max_pooling2d_10 (MaxPoolin  (None, 13, 13, 64)       0         \n",
            " g2D)                                                            \n",
            "                                                                 \n",
            " flatten_2 (Flatten)         (None, 10816)             0         \n",
            "                                                                 \n",
            " dense_7 (Dense)             (None, 64)                692288    \n",
            "                                                                 \n",
            " activation_18 (Activation)  (None, 64)                0         \n",
            "                                                                 \n",
            " dense_8 (Dense)             (None, 32)                2080      \n",
            "                                                                 \n",
            " activation_19 (Activation)  (None, 32)                0         \n",
            "                                                                 \n",
            " dense_9 (Dense)             (None, 10)                330       \n",
            "                                                                 \n",
            " activation_20 (Activation)  (None, 10)                0         \n",
            "                                                                 \n",
            "=================================================================\n",
            "Total params: 695,338\n",
            "Trainable params: 695,338\n",
            "Non-trainable params: 0\n",
            "_________________________________________________________________\n"
          ]
        }
      ]
    },
    {
      "cell_type": "code",
      "source": [
        "model.compile(optimizer = 'adam', loss = 'sparse_categorical_crossentropy', metrics = ['accuracy'])"
      ],
      "metadata": {
        "id": "IKQl5QXTapDc"
      },
      "execution_count": null,
      "outputs": []
    },
    {
      "cell_type": "code",
      "source": [
        "model.fit(x_trainr,trainsety, epochs = 25,validation_split=0.2)"
      ],
      "metadata": {
        "colab": {
          "base_uri": "https://localhost:8080/"
        },
        "id": "v8LE-4qjb9MY",
        "outputId": "7aa959c1-e18b-4c38-9190-1b6a50e06fea"
      },
      "execution_count": null,
      "outputs": [
        {
          "output_type": "stream",
          "name": "stdout",
          "text": [
            "Epoch 1/25\n",
            "1500/1500 [==============================] - 39s 26ms/step - loss: 0.2505 - accuracy: 0.9248 - val_loss: 0.1050 - val_accuracy: 0.9692\n",
            "Epoch 2/25\n",
            "1500/1500 [==============================] - 39s 26ms/step - loss: 0.0818 - accuracy: 0.9753 - val_loss: 0.0718 - val_accuracy: 0.9776\n",
            "Epoch 3/25\n",
            "1500/1500 [==============================] - 38s 25ms/step - loss: 0.0555 - accuracy: 0.9826 - val_loss: 0.0736 - val_accuracy: 0.9770\n",
            "Epoch 4/25\n",
            "1500/1500 [==============================] - 38s 25ms/step - loss: 0.0416 - accuracy: 0.9867 - val_loss: 0.0662 - val_accuracy: 0.9797\n",
            "Epoch 5/25\n",
            "1500/1500 [==============================] - 37s 25ms/step - loss: 0.0306 - accuracy: 0.9897 - val_loss: 0.0782 - val_accuracy: 0.9762\n",
            "Epoch 6/25\n",
            "1500/1500 [==============================] - 38s 25ms/step - loss: 0.0237 - accuracy: 0.9921 - val_loss: 0.0784 - val_accuracy: 0.9789\n",
            "Epoch 7/25\n",
            "1500/1500 [==============================] - 38s 25ms/step - loss: 0.0175 - accuracy: 0.9941 - val_loss: 0.0677 - val_accuracy: 0.9827\n",
            "Epoch 8/25\n",
            "1500/1500 [==============================] - 38s 25ms/step - loss: 0.0142 - accuracy: 0.9950 - val_loss: 0.0738 - val_accuracy: 0.9821\n",
            "Epoch 9/25\n",
            "1500/1500 [==============================] - 37s 25ms/step - loss: 0.0114 - accuracy: 0.9958 - val_loss: 0.0764 - val_accuracy: 0.9834\n",
            "Epoch 10/25\n",
            "1500/1500 [==============================] - 36s 24ms/step - loss: 0.0096 - accuracy: 0.9965 - val_loss: 0.0880 - val_accuracy: 0.9788\n",
            "Epoch 11/25\n",
            "1500/1500 [==============================] - 35s 24ms/step - loss: 0.0083 - accuracy: 0.9971 - val_loss: 0.0848 - val_accuracy: 0.9815\n",
            "Epoch 12/25\n",
            "1500/1500 [==============================] - 36s 24ms/step - loss: 0.0091 - accuracy: 0.9967 - val_loss: 0.0877 - val_accuracy: 0.9802\n",
            "Epoch 13/25\n",
            "1500/1500 [==============================] - 36s 24ms/step - loss: 0.0076 - accuracy: 0.9974 - val_loss: 0.0939 - val_accuracy: 0.9810\n",
            "Epoch 14/25\n",
            "1500/1500 [==============================] - 37s 25ms/step - loss: 0.0055 - accuracy: 0.9981 - val_loss: 0.0833 - val_accuracy: 0.9825\n",
            "Epoch 15/25\n",
            "1500/1500 [==============================] - 36s 24ms/step - loss: 0.0077 - accuracy: 0.9975 - val_loss: 0.0908 - val_accuracy: 0.9827\n",
            "Epoch 16/25\n",
            "1500/1500 [==============================] - 36s 24ms/step - loss: 0.0040 - accuracy: 0.9986 - val_loss: 0.1025 - val_accuracy: 0.9807\n",
            "Epoch 17/25\n",
            "1500/1500 [==============================] - 36s 24ms/step - loss: 0.0067 - accuracy: 0.9976 - val_loss: 0.0861 - val_accuracy: 0.9828\n",
            "Epoch 18/25\n",
            "1500/1500 [==============================] - 36s 24ms/step - loss: 0.0058 - accuracy: 0.9982 - val_loss: 0.1017 - val_accuracy: 0.9806\n",
            "Epoch 19/25\n",
            "1500/1500 [==============================] - 37s 24ms/step - loss: 0.0057 - accuracy: 0.9984 - val_loss: 0.1031 - val_accuracy: 0.9825\n",
            "Epoch 20/25\n",
            "1500/1500 [==============================] - 36s 24ms/step - loss: 0.0038 - accuracy: 0.9986 - val_loss: 0.1327 - val_accuracy: 0.9803\n",
            "Epoch 21/25\n",
            "1500/1500 [==============================] - 36s 24ms/step - loss: 0.0052 - accuracy: 0.9984 - val_loss: 0.1038 - val_accuracy: 0.9827\n",
            "Epoch 22/25\n",
            "1500/1500 [==============================] - 36s 24ms/step - loss: 0.0031 - accuracy: 0.9991 - val_loss: 0.1169 - val_accuracy: 0.9816\n",
            "Epoch 23/25\n",
            "1500/1500 [==============================] - 37s 24ms/step - loss: 0.0054 - accuracy: 0.9983 - val_loss: 0.1198 - val_accuracy: 0.9818\n",
            "Epoch 24/25\n",
            "1500/1500 [==============================] - 37s 24ms/step - loss: 0.0025 - accuracy: 0.9992 - val_loss: 0.1001 - val_accuracy: 0.9858\n",
            "Epoch 25/25\n",
            "1500/1500 [==============================] - 38s 25ms/step - loss: 0.0057 - accuracy: 0.9982 - val_loss: 0.1127 - val_accuracy: 0.9836\n"
          ]
        },
        {
          "output_type": "execute_result",
          "data": {
            "text/plain": [
              "<keras.callbacks.History at 0x7f4c333a6310>"
            ]
          },
          "metadata": {},
          "execution_count": 73
        }
      ]
    },
    {
      "cell_type": "code",
      "source": [
        "result = model.predict([x_testr])"
      ],
      "metadata": {
        "id": "0K_aVV2EhpQQ"
      },
      "execution_count": null,
      "outputs": []
    },
    {
      "cell_type": "code",
      "source": [
        "print(result)"
      ],
      "metadata": {
        "colab": {
          "base_uri": "https://localhost:8080/"
        },
        "id": "VVk_esITgZ9M",
        "outputId": "25bbe9c9-49fd-402e-f636-400b837adc48"
      },
      "execution_count": null,
      "outputs": [
        {
          "output_type": "stream",
          "name": "stdout",
          "text": [
            "[[3.7756877e-08 9.8281306e-01 7.6056802e-01 ... 1.0000000e+00\n",
            "  3.2641327e-09 5.2394894e-06]\n",
            " [8.8074041e-05 9.9999905e-01 1.0000000e+00 ... 1.5959144e-04\n",
            "  5.6617302e-09 4.4071243e-16]\n",
            " [5.7699999e-06 1.0000000e+00 5.7586118e-07 ... 1.3793150e-01\n",
            "  9.8906249e-02 3.5027951e-02]\n",
            " ...\n",
            " [3.7467299e-10 3.6192010e-05 8.6792710e-07 ... 9.8370516e-01\n",
            "  9.9346584e-01 8.1025672e-01]\n",
            " [9.6791678e-07 1.9249900e-11 1.6146898e-04 ... 8.2141161e-03\n",
            "  9.9922442e-01 5.4571033e-04]\n",
            " [9.7944242e-01 8.1722565e-06 1.0522395e-02 ... 4.0383943e-06\n",
            "  3.2569347e-05 8.1127939e-05]]\n"
          ]
        }
      ]
    },
    {
      "cell_type": "code",
      "source": [
        "print(np.argmax(result[24]))"
      ],
      "metadata": {
        "colab": {
          "base_uri": "https://localhost:8080/"
        },
        "id": "8wffDmOQkqzJ",
        "outputId": "85e7b3c7-aaf1-4917-9853-57b15b1c496c"
      },
      "execution_count": null,
      "outputs": [
        {
          "output_type": "stream",
          "name": "stdout",
          "text": [
            "4\n"
          ]
        }
      ]
    },
    {
      "cell_type": "code",
      "source": [
        "plt.imshow(x_test[24])"
      ],
      "metadata": {
        "colab": {
          "base_uri": "https://localhost:8080/",
          "height": 282
        },
        "id": "VxQ8gTGGlCsU",
        "outputId": "88d68607-0ca8-4a1d-c986-ae1ff495adb0"
      },
      "execution_count": null,
      "outputs": [
        {
          "output_type": "execute_result",
          "data": {
            "text/plain": [
              "<matplotlib.image.AxesImage at 0x7f4c39d73f90>"
            ]
          },
          "metadata": {},
          "execution_count": 81
        },
        {
          "output_type": "display_data",
          "data": {
            "image/png": "[encoded data removed]",
            "text/plain": [
              "<Figure size 432x288 with 1 Axes>"
            ]
          },
          "metadata": {
            "needs_background": "light"
          }
        }
      ]
    }
  ]
}